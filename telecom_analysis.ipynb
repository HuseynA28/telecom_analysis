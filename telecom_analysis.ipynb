{
 "cells": [
  {
   "cell_type": "markdown",
   "id": "4d5bf138",
   "metadata": {},
   "source": [
    "### Step 1. Open the data file and study the general information. "
   ]
  },
  {
   "cell_type": "code",
   "execution_count": 1,
   "id": "3d44091e",
   "metadata": {},
   "outputs": [],
   "source": [
    "import pandas as pd\n",
    "import numpy as np\n",
    "import datetime\n",
    "import seaborn as sns\n",
    "import matplotlib.pyplot as plt\n",
    "import datetime\n",
    "from scipy import stats as st\n",
    "import scipy.stats as stats\n",
    "from scipy.stats import mannwhitneyu\n",
    "\n",
    "\n"
   ]
  },
  {
   "cell_type": "code",
   "execution_count": 2,
   "id": "fc5368e2",
   "metadata": {},
   "outputs": [],
   "source": [
    "\n",
    "call=pd.read_csv('datasets/pro3/megaline_calls.csv')\n",
    "message=pd.read_csv('datasets/pro3/megaline_messages.csv')\n",
    "internet=pd.read_csv('datasets/pro3/megaline_internet.csv')\n",
    "plan=pd.read_csv('datasets/pro3/megaline_plans.csv')\n",
    "user=pd.read_csv('datasets/pro3/megaline_users.csv')\n"
   ]
  },
  {
   "cell_type": "code",
   "execution_count": 3,
   "id": "594e33be",
   "metadata": {},
   "outputs": [
    {
     "data": {
      "text/html": [
       "<div>\n",
       "<style scoped>\n",
       "    .dataframe tbody tr th:only-of-type {\n",
       "        vertical-align: middle;\n",
       "    }\n",
       "\n",
       "    .dataframe tbody tr th {\n",
       "        vertical-align: top;\n",
       "    }\n",
       "\n",
       "    .dataframe thead th {\n",
       "        text-align: right;\n",
       "    }\n",
       "</style>\n",
       "<table border=\"1\" class=\"dataframe\">\n",
       "  <thead>\n",
       "    <tr style=\"text-align: right;\">\n",
       "      <th></th>\n",
       "      <th>id</th>\n",
       "      <th>user_id</th>\n",
       "      <th>call_date</th>\n",
       "      <th>duration</th>\n",
       "    </tr>\n",
       "  </thead>\n",
       "  <tbody>\n",
       "    <tr>\n",
       "      <td>0</td>\n",
       "      <td>1000_93</td>\n",
       "      <td>1000</td>\n",
       "      <td>2018-12-27</td>\n",
       "      <td>8.52</td>\n",
       "    </tr>\n",
       "    <tr>\n",
       "      <td>1</td>\n",
       "      <td>1000_145</td>\n",
       "      <td>1000</td>\n",
       "      <td>2018-12-27</td>\n",
       "      <td>13.66</td>\n",
       "    </tr>\n",
       "  </tbody>\n",
       "</table>\n",
       "</div>"
      ],
      "text/plain": [
       "         id  user_id   call_date  duration\n",
       "0   1000_93     1000  2018-12-27      8.52\n",
       "1  1000_145     1000  2018-12-27     13.66"
      ]
     },
     "execution_count": 3,
     "metadata": {},
     "output_type": "execute_result"
    }
   ],
   "source": [
    "call.head(2)\n"
   ]
  },
  {
   "cell_type": "code",
   "execution_count": 4,
   "id": "9a0648a9",
   "metadata": {},
   "outputs": [
    {
     "data": {
      "text/html": [
       "<div>\n",
       "<style scoped>\n",
       "    .dataframe tbody tr th:only-of-type {\n",
       "        vertical-align: middle;\n",
       "    }\n",
       "\n",
       "    .dataframe tbody tr th {\n",
       "        vertical-align: top;\n",
       "    }\n",
       "\n",
       "    .dataframe thead th {\n",
       "        text-align: right;\n",
       "    }\n",
       "</style>\n",
       "<table border=\"1\" class=\"dataframe\">\n",
       "  <thead>\n",
       "    <tr style=\"text-align: right;\">\n",
       "      <th></th>\n",
       "      <th>id</th>\n",
       "      <th>user_id</th>\n",
       "      <th>message_date</th>\n",
       "    </tr>\n",
       "  </thead>\n",
       "  <tbody>\n",
       "    <tr>\n",
       "      <td>0</td>\n",
       "      <td>1000_125</td>\n",
       "      <td>1000</td>\n",
       "      <td>2018-12-27</td>\n",
       "    </tr>\n",
       "    <tr>\n",
       "      <td>1</td>\n",
       "      <td>1000_160</td>\n",
       "      <td>1000</td>\n",
       "      <td>2018-12-31</td>\n",
       "    </tr>\n",
       "  </tbody>\n",
       "</table>\n",
       "</div>"
      ],
      "text/plain": [
       "         id  user_id message_date\n",
       "0  1000_125     1000   2018-12-27\n",
       "1  1000_160     1000   2018-12-31"
      ]
     },
     "execution_count": 4,
     "metadata": {},
     "output_type": "execute_result"
    }
   ],
   "source": [
    "message.head(2)"
   ]
  },
  {
   "cell_type": "code",
   "execution_count": 5,
   "id": "0caa9763",
   "metadata": {},
   "outputs": [
    {
     "data": {
      "text/html": [
       "<div>\n",
       "<style scoped>\n",
       "    .dataframe tbody tr th:only-of-type {\n",
       "        vertical-align: middle;\n",
       "    }\n",
       "\n",
       "    .dataframe tbody tr th {\n",
       "        vertical-align: top;\n",
       "    }\n",
       "\n",
       "    .dataframe thead th {\n",
       "        text-align: right;\n",
       "    }\n",
       "</style>\n",
       "<table border=\"1\" class=\"dataframe\">\n",
       "  <thead>\n",
       "    <tr style=\"text-align: right;\">\n",
       "      <th></th>\n",
       "      <th>id</th>\n",
       "      <th>user_id</th>\n",
       "      <th>session_date</th>\n",
       "      <th>mb_used</th>\n",
       "    </tr>\n",
       "  </thead>\n",
       "  <tbody>\n",
       "    <tr>\n",
       "      <td>0</td>\n",
       "      <td>1000_13</td>\n",
       "      <td>1000</td>\n",
       "      <td>2018-12-29</td>\n",
       "      <td>89.86</td>\n",
       "    </tr>\n",
       "    <tr>\n",
       "      <td>1</td>\n",
       "      <td>1000_204</td>\n",
       "      <td>1000</td>\n",
       "      <td>2018-12-31</td>\n",
       "      <td>0.00</td>\n",
       "    </tr>\n",
       "  </tbody>\n",
       "</table>\n",
       "</div>"
      ],
      "text/plain": [
       "         id  user_id session_date  mb_used\n",
       "0   1000_13     1000   2018-12-29    89.86\n",
       "1  1000_204     1000   2018-12-31     0.00"
      ]
     },
     "execution_count": 5,
     "metadata": {},
     "output_type": "execute_result"
    }
   ],
   "source": [
    "internet.head(2)"
   ]
  },
  {
   "cell_type": "code",
   "execution_count": 6,
   "id": "4ce90160",
   "metadata": {},
   "outputs": [
    {
     "data": {
      "text/html": [
       "<div>\n",
       "<style scoped>\n",
       "    .dataframe tbody tr th:only-of-type {\n",
       "        vertical-align: middle;\n",
       "    }\n",
       "\n",
       "    .dataframe tbody tr th {\n",
       "        vertical-align: top;\n",
       "    }\n",
       "\n",
       "    .dataframe thead th {\n",
       "        text-align: right;\n",
       "    }\n",
       "</style>\n",
       "<table border=\"1\" class=\"dataframe\">\n",
       "  <thead>\n",
       "    <tr style=\"text-align: right;\">\n",
       "      <th></th>\n",
       "      <th>messages_included</th>\n",
       "      <th>mb_per_month_included</th>\n",
       "      <th>minutes_included</th>\n",
       "      <th>usd_monthly_pay</th>\n",
       "      <th>usd_per_gb</th>\n",
       "      <th>usd_per_message</th>\n",
       "      <th>usd_per_minute</th>\n",
       "      <th>plan_name</th>\n",
       "    </tr>\n",
       "  </thead>\n",
       "  <tbody>\n",
       "    <tr>\n",
       "      <td>0</td>\n",
       "      <td>50</td>\n",
       "      <td>15360</td>\n",
       "      <td>500</td>\n",
       "      <td>20</td>\n",
       "      <td>10</td>\n",
       "      <td>0.03</td>\n",
       "      <td>0.03</td>\n",
       "      <td>surf</td>\n",
       "    </tr>\n",
       "    <tr>\n",
       "      <td>1</td>\n",
       "      <td>1000</td>\n",
       "      <td>30720</td>\n",
       "      <td>3000</td>\n",
       "      <td>70</td>\n",
       "      <td>7</td>\n",
       "      <td>0.01</td>\n",
       "      <td>0.01</td>\n",
       "      <td>ultimate</td>\n",
       "    </tr>\n",
       "  </tbody>\n",
       "</table>\n",
       "</div>"
      ],
      "text/plain": [
       "   messages_included  mb_per_month_included  minutes_included  \\\n",
       "0                 50                  15360               500   \n",
       "1               1000                  30720              3000   \n",
       "\n",
       "   usd_monthly_pay  usd_per_gb  usd_per_message  usd_per_minute plan_name  \n",
       "0               20          10             0.03            0.03      surf  \n",
       "1               70           7             0.01            0.01  ultimate  "
      ]
     },
     "execution_count": 6,
     "metadata": {},
     "output_type": "execute_result"
    }
   ],
   "source": [
    "plan"
   ]
  },
  {
   "cell_type": "code",
   "execution_count": 7,
   "id": "7e5ebf71",
   "metadata": {},
   "outputs": [
    {
     "data": {
      "text/html": [
       "<div>\n",
       "<style scoped>\n",
       "    .dataframe tbody tr th:only-of-type {\n",
       "        vertical-align: middle;\n",
       "    }\n",
       "\n",
       "    .dataframe tbody tr th {\n",
       "        vertical-align: top;\n",
       "    }\n",
       "\n",
       "    .dataframe thead th {\n",
       "        text-align: right;\n",
       "    }\n",
       "</style>\n",
       "<table border=\"1\" class=\"dataframe\">\n",
       "  <thead>\n",
       "    <tr style=\"text-align: right;\">\n",
       "      <th></th>\n",
       "      <th>user_id</th>\n",
       "      <th>first_name</th>\n",
       "      <th>last_name</th>\n",
       "      <th>age</th>\n",
       "      <th>city</th>\n",
       "      <th>reg_date</th>\n",
       "      <th>plan</th>\n",
       "      <th>churn_date</th>\n",
       "    </tr>\n",
       "  </thead>\n",
       "  <tbody>\n",
       "    <tr>\n",
       "      <td>0</td>\n",
       "      <td>1000</td>\n",
       "      <td>Anamaria</td>\n",
       "      <td>Bauer</td>\n",
       "      <td>45</td>\n",
       "      <td>Atlanta-Sandy Springs-Roswell, GA MSA</td>\n",
       "      <td>2018-12-24</td>\n",
       "      <td>ultimate</td>\n",
       "      <td>NaN</td>\n",
       "    </tr>\n",
       "    <tr>\n",
       "      <td>1</td>\n",
       "      <td>1001</td>\n",
       "      <td>Mickey</td>\n",
       "      <td>Wilkerson</td>\n",
       "      <td>28</td>\n",
       "      <td>Seattle-Tacoma-Bellevue, WA MSA</td>\n",
       "      <td>2018-08-13</td>\n",
       "      <td>surf</td>\n",
       "      <td>NaN</td>\n",
       "    </tr>\n",
       "  </tbody>\n",
       "</table>\n",
       "</div>"
      ],
      "text/plain": [
       "   user_id first_name  last_name  age                                   city  \\\n",
       "0     1000   Anamaria      Bauer   45  Atlanta-Sandy Springs-Roswell, GA MSA   \n",
       "1     1001     Mickey  Wilkerson   28        Seattle-Tacoma-Bellevue, WA MSA   \n",
       "\n",
       "     reg_date      plan churn_date  \n",
       "0  2018-12-24  ultimate        NaN  \n",
       "1  2018-08-13      surf        NaN  "
      ]
     },
     "execution_count": 7,
     "metadata": {},
     "output_type": "execute_result"
    }
   ],
   "source": [
    "\n",
    "user.head(2)"
   ]
  },
  {
   "cell_type": "code",
   "execution_count": 8,
   "id": "bfc9d44e",
   "metadata": {},
   "outputs": [
    {
     "data": {
      "text/plain": [
       "(False, False, False, False, True)"
      ]
     },
     "execution_count": 8,
     "metadata": {},
     "output_type": "execute_result"
    }
   ],
   "source": [
    "call.isnull().any().any(), message.isnull().any().any(), internet.isnull().any().any(), plan.isnull().any().any(), user.isna().any().any()"
   ]
  },
  {
   "cell_type": "code",
   "execution_count": 9,
   "id": "9097ccf1",
   "metadata": {},
   "outputs": [
    {
     "data": {
      "text/plain": [
       "user_id        0.0\n",
       "first_name     0.0\n",
       "last_name      0.0\n",
       "age            0.0\n",
       "city           0.0\n",
       "reg_date       0.0\n",
       "plan           0.0\n",
       "churn_date    93.2\n",
       "dtype: float64"
      ]
     },
     "execution_count": 9,
     "metadata": {},
     "output_type": "execute_result"
    }
   ],
   "source": [
    "user.isna().mean().round(4) * 100"
   ]
  },
  {
   "cell_type": "markdown",
   "id": "691b955c",
   "metadata": {},
   "source": [
    "we have different data set about the customer's information and the prepaid plans that they use. I have to find out which of these plans brings more profit. I looked at the general view of each data set (head) the checked missing value. It is very good that there is no missing value(it is only good news for me today)except in churn_date but it means that the calling plan was still used. I think there is no way to fill these values."
   ]
  },
  {
   "cell_type": "markdown",
   "id": "b30251d7",
   "metadata": {},
   "source": [
    "We have here a little problem, internet usage and call duration  13% and 19 % are zero. Their problem is this could be real and not real. Because some people do not use mobile internet because of their old mobile phone or other reason. Therefore, I will look at who their people are and whether these are old, if these are old I will not replace them,( because most elder people do not use mobile internet) if these people are young, I have to fill these zeros with median I think. I looked at the data ( I wrote some code, then deleted them in order to not make the task more compilated but I just wanted to explain why I left the zeros) saw that zero usage exist all age group. Therefore I decide not to fill the o value with something. (  But zero calls I think it is quite possible. "
   ]
  },
  {
   "cell_type": "code",
   "execution_count": 10,
   "id": "1f6c5525",
   "metadata": {},
   "outputs": [
    {
     "name": "stdout",
     "output_type": "stream",
     "text": [
      "<class 'pandas.core.frame.DataFrame'>\n",
      "RangeIndex: 137735 entries, 0 to 137734\n",
      "Data columns (total 4 columns):\n",
      "id           137735 non-null object\n",
      "user_id      137735 non-null int64\n",
      "call_date    137735 non-null object\n",
      "duration     137735 non-null float64\n",
      "dtypes: float64(1), int64(1), object(2)\n",
      "memory usage: 4.2+ MB\n",
      "<class 'pandas.core.frame.DataFrame'>\n",
      "RangeIndex: 76051 entries, 0 to 76050\n",
      "Data columns (total 3 columns):\n",
      "id              76051 non-null object\n",
      "user_id         76051 non-null int64\n",
      "message_date    76051 non-null object\n",
      "dtypes: int64(1), object(2)\n",
      "memory usage: 1.7+ MB\n",
      "<class 'pandas.core.frame.DataFrame'>\n",
      "RangeIndex: 104825 entries, 0 to 104824\n",
      "Data columns (total 4 columns):\n",
      "id              104825 non-null object\n",
      "user_id         104825 non-null int64\n",
      "session_date    104825 non-null object\n",
      "mb_used         104825 non-null float64\n",
      "dtypes: float64(1), int64(1), object(2)\n",
      "memory usage: 3.2+ MB\n",
      "<class 'pandas.core.frame.DataFrame'>\n",
      "RangeIndex: 2 entries, 0 to 1\n",
      "Data columns (total 8 columns):\n",
      "messages_included        2 non-null int64\n",
      "mb_per_month_included    2 non-null int64\n",
      "minutes_included         2 non-null int64\n",
      "usd_monthly_pay          2 non-null int64\n",
      "usd_per_gb               2 non-null int64\n",
      "usd_per_message          2 non-null float64\n",
      "usd_per_minute           2 non-null float64\n",
      "plan_name                2 non-null object\n",
      "dtypes: float64(2), int64(5), object(1)\n",
      "memory usage: 256.0+ bytes\n",
      "<class 'pandas.core.frame.DataFrame'>\n",
      "RangeIndex: 500 entries, 0 to 499\n",
      "Data columns (total 8 columns):\n",
      "user_id       500 non-null int64\n",
      "first_name    500 non-null object\n",
      "last_name     500 non-null object\n",
      "age           500 non-null int64\n",
      "city          500 non-null object\n",
      "reg_date      500 non-null object\n",
      "plan          500 non-null object\n",
      "churn_date    34 non-null object\n",
      "dtypes: int64(2), object(6)\n",
      "memory usage: 31.4+ KB\n"
     ]
    },
    {
     "data": {
      "text/plain": [
       "(None, None, None, None, None)"
      ]
     },
     "execution_count": 10,
     "metadata": {},
     "output_type": "execute_result"
    }
   ],
   "source": [
    "call.info(), message.info(),  internet.info(), plan.info(), user.info(),"
   ]
  },
  {
   "cell_type": "markdown",
   "id": "61c8cf05",
   "metadata": {},
   "source": [
    "### Step 2. Prepare the data\n"
   ]
  },
  {
   "cell_type": "code",
   "execution_count": 11,
   "id": "444d1307",
   "metadata": {},
   "outputs": [],
   "source": [
    "call['call_date']=pd.to_datetime(call['call_date'], format='%Y-%m-%dT%H:%M:%S').dt.normalize()\n",
    "message['message_date']=pd.to_datetime(message['message_date'], format='%Y-%m-%dT%H:%M:%S').dt.normalize()\n",
    "internet['session_date']=pd.to_datetime(internet['session_date'], format='%Y-%m-%dT%H:%M:%S').dt.normalize()\n",
    "user['reg_date']=pd.to_datetime(user['reg_date'], format='%Y-%m-%dT%H:%M:%S').dt.normalize()"
   ]
  },
  {
   "cell_type": "code",
   "execution_count": 12,
   "id": "b9c98eee",
   "metadata": {},
   "outputs": [],
   "source": [
    "call['month']=call['call_date'].dt.month_name() \n",
    "message['month']=message['message_date'].dt.month_name() \n",
    "internet['month']=internet['session_date'].dt.month_name() "
   ]
  },
  {
   "cell_type": "markdown",
   "id": "b39f73f5",
   "metadata": {},
   "source": [
    "Then I created month columns in the call, message, and internet because I will need them to compare the monthly cost of customers"
   ]
  },
  {
   "cell_type": "code",
   "execution_count": 13,
   "id": "ba02a80a",
   "metadata": {},
   "outputs": [],
   "source": [
    "call['duration']=np.ceil(call['duration'])\n"
   ]
  },
  {
   "cell_type": "markdown",
   "id": "6c23dec1",
   "metadata": {},
   "source": [
    "I rounded the duration because the description of the plans says so."
   ]
  },
  {
   "cell_type": "code",
   "execution_count": 14,
   "id": "f0f78109",
   "metadata": {},
   "outputs": [],
   "source": [
    "sum_mb = internet.groupby(['user_id','month'])['mb_used'].sum()\n",
    "count_call = call.groupby(['user_id','month'])['call_date'].count()\n",
    "sum_minute=call.groupby(['user_id','month'])['duration'].sum()\n",
    "count_message = message.groupby(['user_id','month'])['message_date'].count()"
   ]
  },
  {
   "cell_type": "code",
   "execution_count": 15,
   "id": "9ed36d9e",
   "metadata": {},
   "outputs": [],
   "source": [
    "merged= pd.merge(left = sum_mb , \n",
    "                right = count_call, how='outer',on=[\"user_id\",\"month\" ]).fillna(0)\n",
    "merged1= pd.merge(left = merged , \n",
    "                right = sum_minute, how='outer',on=['user_id', \"month\"  ]).fillna(0)\n",
    "merged2= pd.merge(left = merged1 , \n",
    "                right = count_message, how='outer',on=['user_id',\"month\" ]).fillna(0)\n",
    "merged3= pd.merge(left = merged2 , \n",
    "                right = user, how='outer',on=['user_id']).fillna(0)"
   ]
  },
  {
   "cell_type": "code",
   "execution_count": 16,
   "id": "4414e75b",
   "metadata": {},
   "outputs": [],
   "source": [
    "merged2 = merged2.reset_index()\n",
    "merged3= pd.merge(left = merged2 , \n",
    "                right = user, how='outer',on=['user_id']).fillna(0)"
   ]
  },
  {
   "cell_type": "markdown",
   "id": "d49d3620",
   "metadata": {},
   "source": [
    "The reason is that sometimes missing values cause some problems due to the type while converting data type or making graphs. I think that 0 value is not dangerous( in this project ) for example when I use .sum() this case  0 has no effect or when I use count() this time 0 and missing value are the same because for of them are counted as 1. And here  the reason why  we have missing value  due to merging the data( I will type shape to prove that the number of row are different in data set), therefore We can  not fill them with anything, and I think in some cases 0 value is better than just letting missing value as 'nan'. "
   ]
  },
  {
   "cell_type": "code",
   "execution_count": 17,
   "id": "f5181d54",
   "metadata": {},
   "outputs": [
    {
     "data": {
      "text/plain": [
       "((2277,), (2258,), (1806,), (500, 8))"
      ]
     },
     "execution_count": 17,
     "metadata": {},
     "output_type": "execute_result"
    }
   ],
   "source": [
    "sum_mb.shape, sum_minute.shape, count_message.shape, user.shape"
   ]
  },
  {
   "cell_type": "code",
   "execution_count": 18,
   "id": "ec7d21f4",
   "metadata": {},
   "outputs": [],
   "source": [
    "merged3['mb_used']=np.ceil(merged3['mb_used']/1024)"
   ]
  },
  {
   "cell_type": "code",
   "execution_count": 19,
   "id": "0ff4ad59",
   "metadata": {},
   "outputs": [],
   "source": [
    "merged3 = merged3.rename(columns={'mb_used': 'sum_gb','call_date': 'number_call', 'duration': 'sum_call_time', 'message_date': 'number_mesage' })\n"
   ]
  },
  {
   "cell_type": "code",
   "execution_count": 20,
   "id": "43cadc32",
   "metadata": {},
   "outputs": [],
   "source": [
    "plan = plan.rename(columns={'plan_name': 'plan'})\n"
   ]
  },
  {
   "cell_type": "markdown",
   "id": "216173e4",
   "metadata": {},
   "source": [
    "I changed the name of some columns to make more accurate and easy to work with them"
   ]
  },
  {
   "cell_type": "code",
   "execution_count": 21,
   "id": "a26c22e4",
   "metadata": {},
   "outputs": [],
   "source": [
    "data= pd.merge(left = merged3 , \n",
    "                right = plan, how='outer',on=['plan']).fillna(0)"
   ]
  },
  {
   "cell_type": "code",
   "execution_count": 22,
   "id": "42903bc9",
   "metadata": {},
   "outputs": [
    {
     "data": {
      "text/plain": [
       "December     20.364742\n",
       "November     17.802866\n",
       "October      14.893617\n",
       "September    12.158055\n",
       "August       10.117238\n",
       "July          7.815892\n",
       "June          6.252714\n",
       "May           4.602692\n",
       "April         3.082935\n",
       "March         1.519757\n",
       "February      0.694746\n",
       "0             0.434216\n",
       "January       0.260530\n",
       "Name: month, dtype: float64"
      ]
     },
     "execution_count": 22,
     "metadata": {},
     "output_type": "execute_result"
    }
   ],
   "source": [
    "data['month'].value_counts()/len(data['month'])*100"
   ]
  },
  {
   "cell_type": "code",
   "execution_count": 23,
   "id": "c0ce5d7d",
   "metadata": {},
   "outputs": [
    {
     "data": {
      "text/html": [
       "<div>\n",
       "<style scoped>\n",
       "    .dataframe tbody tr th:only-of-type {\n",
       "        vertical-align: middle;\n",
       "    }\n",
       "\n",
       "    .dataframe tbody tr th {\n",
       "        vertical-align: top;\n",
       "    }\n",
       "\n",
       "    .dataframe thead th {\n",
       "        text-align: right;\n",
       "    }\n",
       "</style>\n",
       "<table border=\"1\" class=\"dataframe\">\n",
       "  <thead>\n",
       "    <tr style=\"text-align: right;\">\n",
       "      <th></th>\n",
       "      <th>user_id</th>\n",
       "      <th>month</th>\n",
       "      <th>sum_gb</th>\n",
       "      <th>number_call</th>\n",
       "      <th>sum_call_time</th>\n",
       "      <th>number_mesage</th>\n",
       "      <th>first_name</th>\n",
       "      <th>last_name</th>\n",
       "      <th>age</th>\n",
       "      <th>city</th>\n",
       "      <th>reg_date</th>\n",
       "      <th>plan</th>\n",
       "      <th>churn_date</th>\n",
       "      <th>messages_included</th>\n",
       "      <th>mb_per_month_included</th>\n",
       "      <th>minutes_included</th>\n",
       "      <th>usd_monthly_pay</th>\n",
       "      <th>usd_per_gb</th>\n",
       "      <th>usd_per_message</th>\n",
       "      <th>usd_per_minute</th>\n",
       "    </tr>\n",
       "  </thead>\n",
       "  <tbody>\n",
       "    <tr>\n",
       "      <td>720</td>\n",
       "      <td>1025</td>\n",
       "      <td>0</td>\n",
       "      <td>0.0</td>\n",
       "      <td>0.0</td>\n",
       "      <td>0.0</td>\n",
       "      <td>0.0</td>\n",
       "      <td>Jess</td>\n",
       "      <td>Wilkinson</td>\n",
       "      <td>64</td>\n",
       "      <td>Atlanta-Sandy Springs-Roswell, GA MSA</td>\n",
       "      <td>2018-10-28</td>\n",
       "      <td>ultimate</td>\n",
       "      <td>0</td>\n",
       "      <td>1000</td>\n",
       "      <td>30720</td>\n",
       "      <td>3000</td>\n",
       "      <td>70</td>\n",
       "      <td>7</td>\n",
       "      <td>0.01</td>\n",
       "      <td>0.01</td>\n",
       "    </tr>\n",
       "    <tr>\n",
       "      <td>721</td>\n",
       "      <td>1269</td>\n",
       "      <td>0</td>\n",
       "      <td>0.0</td>\n",
       "      <td>0.0</td>\n",
       "      <td>0.0</td>\n",
       "      <td>0.0</td>\n",
       "      <td>Irving</td>\n",
       "      <td>Thompson</td>\n",
       "      <td>39</td>\n",
       "      <td>Dallas-Fort Worth-Arlington, TX MSA</td>\n",
       "      <td>2018-09-13</td>\n",
       "      <td>ultimate</td>\n",
       "      <td>2018-12-15</td>\n",
       "      <td>1000</td>\n",
       "      <td>30720</td>\n",
       "      <td>3000</td>\n",
       "      <td>70</td>\n",
       "      <td>7</td>\n",
       "      <td>0.01</td>\n",
       "      <td>0.01</td>\n",
       "    </tr>\n",
       "  </tbody>\n",
       "</table>\n",
       "</div>"
      ],
      "text/plain": [
       "     user_id month  sum_gb  number_call  sum_call_time  number_mesage  \\\n",
       "720     1025     0     0.0          0.0            0.0            0.0   \n",
       "721     1269     0     0.0          0.0            0.0            0.0   \n",
       "\n",
       "    first_name  last_name  age                                   city  \\\n",
       "720       Jess  Wilkinson   64  Atlanta-Sandy Springs-Roswell, GA MSA   \n",
       "721     Irving   Thompson   39    Dallas-Fort Worth-Arlington, TX MSA   \n",
       "\n",
       "      reg_date      plan  churn_date  messages_included  \\\n",
       "720 2018-10-28  ultimate           0               1000   \n",
       "721 2018-09-13  ultimate  2018-12-15               1000   \n",
       "\n",
       "     mb_per_month_included  minutes_included  usd_monthly_pay  usd_per_gb  \\\n",
       "720                  30720              3000               70           7   \n",
       "721                  30720              3000               70           7   \n",
       "\n",
       "     usd_per_message  usd_per_minute  \n",
       "720             0.01            0.01  \n",
       "721             0.01            0.01  "
      ]
     },
     "execution_count": 23,
     "metadata": {},
     "output_type": "execute_result"
    }
   ],
   "source": [
    "data[data['month']==0].head(2)"
   ]
  },
  {
   "cell_type": "markdown",
   "id": "61418bdd",
   "metadata": {},
   "source": [
    "O(zero) value in month column does not seem so good, I looked at why there is zero value in a month then I saw that these customers did use their mobile service, and 0 values percentages in data is not much, Therefore, I decided to not to delete them. But I do not know exactly whether it was a good decision."
   ]
  },
  {
   "cell_type": "code",
   "execution_count": 24,
   "id": "5bf1cd5a",
   "metadata": {},
   "outputs": [],
   "source": [
    "data_surf=data[data['plan']=='surf']\n",
    "data_ultimate=data[data['plan']=='ultimate']"
   ]
  },
  {
   "cell_type": "code",
   "execution_count": 25,
   "id": "3d586696",
   "metadata": {},
   "outputs": [],
   "source": [
    "def total_cost(row):\n",
    "    sum_call_time = row['sum_call_time']\n",
    "    number_mesage = row['number_mesage']\n",
    "    sum_gb = row['sum_gb']\n",
    "    plan_name = row['plan']\n",
    "    \n",
    "    \n",
    "    \n",
    "    \n",
    "    plan_cost = 0\n",
    "    call_cost = 0\n",
    "    message_cost = 0\n",
    "    data_cost = 0\n",
    " \n",
    "    if plan_name == 'surf':\n",
    "        plan_cost = 20\n",
    "        if sum_call_time <= 500:\n",
    "            call_cost = 0\n",
    "        else:\n",
    "            call_cost = 0.03*(sum_call_time - 500)\n",
    " \n",
    "        if number_mesage <= 50:\n",
    "            message_cost = 0\n",
    "        else:\n",
    "            message_cost = 0.03*(number_mesage - 50)\n",
    " \n",
    "        if sum_gb <= 15:\n",
    "            data_cost = 0\n",
    "        else:\n",
    "            data_cost = 10*(sum_gb - 15)\n",
    "    elif plan_name == 'ultimate':\n",
    "        plan_cost = 70\n",
    "        if sum_call_time <= 3000:\n",
    "            call_cost = 0\n",
    "        else:\n",
    "            call_cost = 0.01*(sum_call_time - 500)\n",
    " \n",
    "        if number_mesage <= 1000:\n",
    "            message_cost = 0\n",
    "        else:\n",
    "            message_cost = 0.01*(number_mesage - 50)\n",
    " \n",
    "        if sum_gb <= 30:\n",
    "            data_cost = 0\n",
    "        else:\n",
    "            data_cost = 7*(sum_gb - 30) \n",
    "    monthly_income = plan_cost + call_cost + message_cost + data_cost\n",
    "    return monthly_income\n"
   ]
  },
  {
   "cell_type": "code",
   "execution_count": 26,
   "id": "5cce16d4",
   "metadata": {},
   "outputs": [],
   "source": [
    "data['monthly_income']=data.apply(total_cost,axis=1)\n"
   ]
  },
  {
   "cell_type": "markdown",
   "id": "7e937d66",
   "metadata": {},
   "source": [
    "I tried here to create monthly income for a company or you can call it monthly cost for customers. I know that it would be better if I would refer directly to data for \"1 minute: 3 cents\n",
    "1 text message: 3 cents\" but I saw that it getting more compilated therefore I used just 0.03, 0.01 and so numbers for costs."
   ]
  },
  {
   "cell_type": "markdown",
   "id": "4108b585",
   "metadata": {},
   "source": [
    "I converted certain data to necessary types then applied the prepaid plans according to their tariff. (Namely,  surf, and Ultimate prepaid plans)  .In order to compare the monthly income of each prepaid plan, I created monthly columns for internet(roundly monthly usage), call (rounded daily usage to minutes then calculated monthly usage), and message. The purpose of that to see the difference between these prepaid users. To find the cost of easy users I used the information in the plan data set. For this purpose, I used the total cost function and applied it to monthly income columns. Now, we can see easily the money cost of the easy users. The in the next task I will try to numerically and graphically find which prepaid brings more revenue\n"
   ]
  },
  {
   "cell_type": "markdown",
   "id": "85f3e816",
   "metadata": {},
   "source": [
    "### Step 3. Analyze the data\n"
   ]
  },
  {
   "cell_type": "code",
   "execution_count": 27,
   "id": "1a9632c4",
   "metadata": {},
   "outputs": [],
   "source": [
    "pivot_surf=data.query('plan == \"surf\"').pivot_table(index='month', values='monthly_income', aggfunc='median')\n",
    "pivot_ultimate=data.query('plan == \"ultimate\"').pivot_table(index='month', values='monthly_income', aggfunc='mean')\n"
   ]
  },
  {
   "cell_type": "code",
   "execution_count": 28,
   "id": "3e4b2837",
   "metadata": {},
   "outputs": [
    {
     "data": {
      "text/plain": [
       "Text(0, 0.5, 'Monthly Income')"
      ]
     },
     "execution_count": 28,
     "metadata": {},
     "output_type": "execute_result"
    },
    {
     "data": {
      "image/png": "[encoded data removed]",
      "text/plain": [
       "<Figure size 1440x720 with 1 Axes>"
      ]
     },
     "metadata": {
      "needs_background": "light"
     },
     "output_type": "display_data"
    }
   ],
   "source": [
    "surf_bar=pivot_surf.plot(kind='bar', figsize=(20,10))\n",
    "surf_bar.set_title(\"The monthly cost of costumers in SURF plan\")\n",
    "plt.xlabel('Months of year ')\n",
    "plt.ylabel(\"Monthly Income\")"
   ]
  },
  {
   "cell_type": "markdown",
   "id": "76794f08",
   "metadata": {},
   "source": [
    "I thought that it is also necessary to see in which month the company earn more. For example, in January consumers used the least and in December the most mobile services."
   ]
  },
  {
   "cell_type": "code",
   "execution_count": 29,
   "id": "380f1312",
   "metadata": {},
   "outputs": [
    {
     "data": {
      "image/png": "[encoded data removed]",
      "text/plain": [
       "<Figure size 432x288 with 1 Axes>"
      ]
     },
     "metadata": {
      "needs_background": "light"
     },
     "output_type": "display_data"
    }
   ],
   "source": [
    "pivot_surf.boxplot()\n",
    "plt.show()"
   ]
  },
  {
   "cell_type": "code",
   "execution_count": 30,
   "id": "834c507f",
   "metadata": {},
   "outputs": [
    {
     "name": "stdout",
     "output_type": "stream",
     "text": [
      "First quartile of car monthly is  20.0\n",
      "First quartile of car monthly is  40.33\n"
     ]
    }
   ],
   "source": [
    "Q1 = pivot_surf['monthly_income'].quantile(0.25)\n",
    "Q3 = pivot_surf['monthly_income'].quantile(0.75)\n",
    "print(\"First quartile of car monthly is \", Q1)\n",
    "print(\"First quartile of car monthly is \", Q3)"
   ]
  },
  {
   "cell_type": "markdown",
   "id": "87806763",
   "metadata": {},
   "source": [
    "Q1 and Q3 values are between 40 and 62. I would say that sufr plan seems to be profitable because if you compare it to 20 dollars we can see that most of the consumers use much more than the monthly"
   ]
  },
  {
   "cell_type": "code",
   "execution_count": 31,
   "id": "c3c5713b",
   "metadata": {},
   "outputs": [
    {
     "data": {
      "text/plain": [
       "Text(0, 0.5, 'Monthly Income')"
      ]
     },
     "execution_count": 31,
     "metadata": {},
     "output_type": "execute_result"
    },
    {
     "data": {
      "image/png": "[encoded data removed]",
      "text/plain": [
       "<Figure size 1440x720 with 1 Axes>"
      ]
     },
     "metadata": {
      "needs_background": "light"
     },
     "output_type": "display_data"
    }
   ],
   "source": [
    "ultimate_bar=pivot_ultimate.plot(kind='bar', figsize=(20,10))\n",
    "ultimate_bar.set_title(\"The monthly cost of costumers in ULTIMATE plan\")\n",
    "plt.xlabel('Months of year ')\n",
    "plt.ylabel(\"Monthly Income\")"
   ]
  },
  {
   "cell_type": "markdown",
   "id": "36c7a268",
   "metadata": {},
   "source": [
    "The graph shows that the monthly cost is almost the same around 70 in all months in fact we have seen the same thing in Q1 and Q3 values I mean can say that by looking these values, but this time in a graph form.  "
   ]
  },
  {
   "cell_type": "code",
   "execution_count": 32,
   "id": "2f14b310",
   "metadata": {},
   "outputs": [
    {
     "data": {
      "image/png": "[encoded data removed]",
      "text/plain": [
       "<Figure size 432x288 with 1 Axes>"
      ]
     },
     "metadata": {
      "needs_background": "light"
     },
     "output_type": "display_data"
    }
   ],
   "source": [
    "pivot_ultimate.boxplot()\n",
    "plt.show()"
   ]
  },
  {
   "cell_type": "code",
   "execution_count": 33,
   "id": "e1ac803a",
   "metadata": {},
   "outputs": [
    {
     "name": "stdout",
     "output_type": "stream",
     "text": [
      "First quartile of car monthly is  70.72413793103448\n",
      "First quartile of car monthly is  72.85915492957747\n"
     ]
    }
   ],
   "source": [
    "Q1 = pivot_ultimate['monthly_income'].quantile(0.25)\n",
    "Q3 = pivot_ultimate['monthly_income'].quantile(0.75)\n",
    "print(\"First quartile of car monthly is \", Q1)\n",
    "print(\"First quartile of car monthly is \", Q3)"
   ]
  },
  {
   "cell_type": "markdown",
   "id": "366ad4b8",
   "metadata": {},
   "source": [
    "Ultimate plan but shows quite different scenarios, people do not use more than almost month limits. Q1 and Q3 values are between 70 and 72 and the mean value is 70."
   ]
  },
  {
   "cell_type": "code",
   "execution_count": 34,
   "id": "ece6fee2",
   "metadata": {},
   "outputs": [
    {
     "data": {
      "text/plain": [
       "plan\n",
       "surf        95611.18\n",
       "ultimate    52346.00\n",
       "Name: monthly_income, dtype: float64"
      ]
     },
     "execution_count": 34,
     "metadata": {},
     "output_type": "execute_result"
    }
   ],
   "source": [
    "data.groupby('plan')['monthly_income'].sum()"
   ]
  },
  {
   "cell_type": "code",
   "execution_count": 35,
   "id": "f2a3fc29",
   "metadata": {},
   "outputs": [
    {
     "data": {
      "text/plain": [
       "plan\n",
       "surf        40.18\n",
       "ultimate    70.00\n",
       "Name: monthly_income, dtype: float64"
      ]
     },
     "execution_count": 35,
     "metadata": {},
     "output_type": "execute_result"
    }
   ],
   "source": [
    "data.groupby('plan')['monthly_income'].median()"
   ]
  },
  {
   "cell_type": "code",
   "execution_count": 36,
   "id": "cfe83ff2",
   "metadata": {},
   "outputs": [],
   "source": [
    "data_surf1=data.query('plan == \"surf\"').pivot_table(index='user_id', values='monthly_income', aggfunc='mean')\n",
    "data_ultimate1=data.query('plan == \"ultimate\"').pivot_table(index='user_id', values='monthly_income',aggfunc='mean' )\n",
    "data_surf2=data[data[\"plan\"]==\"surf\"]\n",
    "data_ultimate2=data[data[\"plan\"]==\"ultimate\"]\n",
    "data_NY=data[data['city'].str.contains(\"NY-NJ\")]\n",
    "data_NanNY=data[~data['city'].str.contains(\"NY-NJ\")]\n"
   ]
  },
  {
   "cell_type": "markdown",
   "id": "d0bd03c5",
   "metadata": {},
   "source": [
    "I thought It will be better to look at the sum and median for the last time to make decisions about which plan is better. For revenue prospects it clear that sufr plan is better than the ultimate plan."
   ]
  },
  {
   "cell_type": "code",
   "execution_count": 37,
   "id": "8c69351d",
   "metadata": {},
   "outputs": [
    {
     "data": {
      "text/html": [
       "<div>\n",
       "<style scoped>\n",
       "    .dataframe tbody tr th:only-of-type {\n",
       "        vertical-align: middle;\n",
       "    }\n",
       "\n",
       "    .dataframe tbody tr th {\n",
       "        vertical-align: top;\n",
       "    }\n",
       "\n",
       "    .dataframe thead tr th {\n",
       "        text-align: left;\n",
       "    }\n",
       "\n",
       "    .dataframe thead tr:last-of-type th {\n",
       "        text-align: right;\n",
       "    }\n",
       "</style>\n",
       "<table border=\"1\" class=\"dataframe\">\n",
       "  <thead>\n",
       "    <tr>\n",
       "      <th></th>\n",
       "      <th></th>\n",
       "      <th colspan=\"2\" halign=\"left\">number_call</th>\n",
       "      <th colspan=\"2\" halign=\"left\">number_mesage</th>\n",
       "      <th colspan=\"2\" halign=\"left\">sum_call_time</th>\n",
       "      <th colspan=\"2\" halign=\"left\">sum_gb</th>\n",
       "    </tr>\n",
       "    <tr>\n",
       "      <th></th>\n",
       "      <th></th>\n",
       "      <th>mean</th>\n",
       "      <th>median</th>\n",
       "      <th>mean</th>\n",
       "      <th>median</th>\n",
       "      <th>mean</th>\n",
       "      <th>median</th>\n",
       "      <th>mean</th>\n",
       "      <th>median</th>\n",
       "    </tr>\n",
       "    <tr>\n",
       "      <th>plan</th>\n",
       "      <th>month</th>\n",
       "      <th></th>\n",
       "      <th></th>\n",
       "      <th></th>\n",
       "      <th></th>\n",
       "      <th></th>\n",
       "      <th></th>\n",
       "      <th></th>\n",
       "      <th></th>\n",
       "    </tr>\n",
       "  </thead>\n",
       "  <tbody>\n",
       "    <tr>\n",
       "      <td rowspan=\"13\" valign=\"top\">surf</td>\n",
       "      <td>0</td>\n",
       "      <td>0.00</td>\n",
       "      <td>0.0</td>\n",
       "      <td>0.00</td>\n",
       "      <td>0.0</td>\n",
       "      <td>0.00</td>\n",
       "      <td>0.0</td>\n",
       "      <td>0.00</td>\n",
       "      <td>0.0</td>\n",
       "    </tr>\n",
       "    <tr>\n",
       "      <td>April</td>\n",
       "      <td>48.88</td>\n",
       "      <td>47.0</td>\n",
       "      <td>17.40</td>\n",
       "      <td>10.0</td>\n",
       "      <td>351.54</td>\n",
       "      <td>339.5</td>\n",
       "      <td>12.22</td>\n",
       "      <td>12.0</td>\n",
       "    </tr>\n",
       "    <tr>\n",
       "      <td>August</td>\n",
       "      <td>57.56</td>\n",
       "      <td>55.5</td>\n",
       "      <td>28.78</td>\n",
       "      <td>20.0</td>\n",
       "      <td>410.11</td>\n",
       "      <td>392.0</td>\n",
       "      <td>16.88</td>\n",
       "      <td>17.0</td>\n",
       "    </tr>\n",
       "    <tr>\n",
       "      <td>December</td>\n",
       "      <td>65.45</td>\n",
       "      <td>64.5</td>\n",
       "      <td>38.60</td>\n",
       "      <td>31.0</td>\n",
       "      <td>473.84</td>\n",
       "      <td>449.0</td>\n",
       "      <td>18.24</td>\n",
       "      <td>18.0</td>\n",
       "    </tr>\n",
       "    <tr>\n",
       "      <td>February</td>\n",
       "      <td>40.67</td>\n",
       "      <td>37.0</td>\n",
       "      <td>12.00</td>\n",
       "      <td>3.0</td>\n",
       "      <td>297.00</td>\n",
       "      <td>254.0</td>\n",
       "      <td>12.22</td>\n",
       "      <td>12.0</td>\n",
       "    </tr>\n",
       "    <tr>\n",
       "      <td>January</td>\n",
       "      <td>30.00</td>\n",
       "      <td>30.0</td>\n",
       "      <td>10.50</td>\n",
       "      <td>10.5</td>\n",
       "      <td>203.00</td>\n",
       "      <td>203.0</td>\n",
       "      <td>5.00</td>\n",
       "      <td>5.0</td>\n",
       "    </tr>\n",
       "    <tr>\n",
       "      <td>July</td>\n",
       "      <td>63.16</td>\n",
       "      <td>65.0</td>\n",
       "      <td>27.03</td>\n",
       "      <td>20.0</td>\n",
       "      <td>449.98</td>\n",
       "      <td>454.0</td>\n",
       "      <td>16.88</td>\n",
       "      <td>17.0</td>\n",
       "    </tr>\n",
       "    <tr>\n",
       "      <td>June</td>\n",
       "      <td>59.47</td>\n",
       "      <td>61.0</td>\n",
       "      <td>25.30</td>\n",
       "      <td>15.0</td>\n",
       "      <td>431.30</td>\n",
       "      <td>423.0</td>\n",
       "      <td>15.48</td>\n",
       "      <td>16.0</td>\n",
       "    </tr>\n",
       "    <tr>\n",
       "      <td>March</td>\n",
       "      <td>46.43</td>\n",
       "      <td>49.0</td>\n",
       "      <td>15.26</td>\n",
       "      <td>7.0</td>\n",
       "      <td>330.00</td>\n",
       "      <td>334.0</td>\n",
       "      <td>13.57</td>\n",
       "      <td>14.0</td>\n",
       "    </tr>\n",
       "    <tr>\n",
       "      <td>May</td>\n",
       "      <td>55.70</td>\n",
       "      <td>58.0</td>\n",
       "      <td>24.01</td>\n",
       "      <td>15.0</td>\n",
       "      <td>399.58</td>\n",
       "      <td>415.0</td>\n",
       "      <td>14.12</td>\n",
       "      <td>14.0</td>\n",
       "    </tr>\n",
       "    <tr>\n",
       "      <td>November</td>\n",
       "      <td>59.12</td>\n",
       "      <td>58.0</td>\n",
       "      <td>32.39</td>\n",
       "      <td>27.0</td>\n",
       "      <td>423.33</td>\n",
       "      <td>413.0</td>\n",
       "      <td>16.43</td>\n",
       "      <td>17.0</td>\n",
       "    </tr>\n",
       "    <tr>\n",
       "      <td>October</td>\n",
       "      <td>60.35</td>\n",
       "      <td>61.0</td>\n",
       "      <td>33.84</td>\n",
       "      <td>26.0</td>\n",
       "      <td>429.73</td>\n",
       "      <td>432.0</td>\n",
       "      <td>17.41</td>\n",
       "      <td>18.0</td>\n",
       "    </tr>\n",
       "    <tr>\n",
       "      <td>September</td>\n",
       "      <td>58.11</td>\n",
       "      <td>59.0</td>\n",
       "      <td>30.76</td>\n",
       "      <td>22.5</td>\n",
       "      <td>414.23</td>\n",
       "      <td>426.0</td>\n",
       "      <td>16.69</td>\n",
       "      <td>17.0</td>\n",
       "    </tr>\n",
       "    <tr>\n",
       "      <td rowspan=\"13\" valign=\"top\">ultimate</td>\n",
       "      <td>0</td>\n",
       "      <td>0.00</td>\n",
       "      <td>0.0</td>\n",
       "      <td>0.00</td>\n",
       "      <td>0.0</td>\n",
       "      <td>0.00</td>\n",
       "      <td>0.0</td>\n",
       "      <td>0.00</td>\n",
       "      <td>0.0</td>\n",
       "    </tr>\n",
       "    <tr>\n",
       "      <td>April</td>\n",
       "      <td>47.52</td>\n",
       "      <td>49.0</td>\n",
       "      <td>22.05</td>\n",
       "      <td>17.0</td>\n",
       "      <td>336.86</td>\n",
       "      <td>301.0</td>\n",
       "      <td>16.33</td>\n",
       "      <td>16.0</td>\n",
       "    </tr>\n",
       "    <tr>\n",
       "      <td>August</td>\n",
       "      <td>60.07</td>\n",
       "      <td>60.0</td>\n",
       "      <td>38.48</td>\n",
       "      <td>36.0</td>\n",
       "      <td>421.44</td>\n",
       "      <td>406.0</td>\n",
       "      <td>17.85</td>\n",
       "      <td>18.0</td>\n",
       "    </tr>\n",
       "    <tr>\n",
       "      <td>December</td>\n",
       "      <td>64.90</td>\n",
       "      <td>62.0</td>\n",
       "      <td>45.01</td>\n",
       "      <td>41.0</td>\n",
       "      <td>459.10</td>\n",
       "      <td>436.0</td>\n",
       "      <td>18.40</td>\n",
       "      <td>17.0</td>\n",
       "    </tr>\n",
       "    <tr>\n",
       "      <td>February</td>\n",
       "      <td>58.29</td>\n",
       "      <td>63.0</td>\n",
       "      <td>21.57</td>\n",
       "      <td>15.0</td>\n",
       "      <td>403.14</td>\n",
       "      <td>428.0</td>\n",
       "      <td>17.29</td>\n",
       "      <td>20.0</td>\n",
       "    </tr>\n",
       "    <tr>\n",
       "      <td>January</td>\n",
       "      <td>28.00</td>\n",
       "      <td>32.5</td>\n",
       "      <td>15.50</td>\n",
       "      <td>12.5</td>\n",
       "      <td>193.50</td>\n",
       "      <td>234.0</td>\n",
       "      <td>7.25</td>\n",
       "      <td>8.0</td>\n",
       "    </tr>\n",
       "    <tr>\n",
       "      <td>July</td>\n",
       "      <td>58.69</td>\n",
       "      <td>62.0</td>\n",
       "      <td>32.83</td>\n",
       "      <td>28.0</td>\n",
       "      <td>427.07</td>\n",
       "      <td>430.0</td>\n",
       "      <td>16.49</td>\n",
       "      <td>15.0</td>\n",
       "    </tr>\n",
       "    <tr>\n",
       "      <td>June</td>\n",
       "      <td>52.17</td>\n",
       "      <td>57.0</td>\n",
       "      <td>29.34</td>\n",
       "      <td>21.0</td>\n",
       "      <td>370.96</td>\n",
       "      <td>399.0</td>\n",
       "      <td>15.43</td>\n",
       "      <td>15.0</td>\n",
       "    </tr>\n",
       "    <tr>\n",
       "      <td>March</td>\n",
       "      <td>46.00</td>\n",
       "      <td>36.0</td>\n",
       "      <td>20.25</td>\n",
       "      <td>12.0</td>\n",
       "      <td>304.25</td>\n",
       "      <td>251.0</td>\n",
       "      <td>18.42</td>\n",
       "      <td>21.0</td>\n",
       "    </tr>\n",
       "    <tr>\n",
       "      <td>May</td>\n",
       "      <td>57.59</td>\n",
       "      <td>58.0</td>\n",
       "      <td>32.10</td>\n",
       "      <td>19.0</td>\n",
       "      <td>406.24</td>\n",
       "      <td>407.0</td>\n",
       "      <td>16.86</td>\n",
       "      <td>17.0</td>\n",
       "    </tr>\n",
       "    <tr>\n",
       "      <td>November</td>\n",
       "      <td>62.36</td>\n",
       "      <td>63.0</td>\n",
       "      <td>38.61</td>\n",
       "      <td>32.0</td>\n",
       "      <td>445.20</td>\n",
       "      <td>432.0</td>\n",
       "      <td>17.12</td>\n",
       "      <td>17.0</td>\n",
       "    </tr>\n",
       "    <tr>\n",
       "      <td>October</td>\n",
       "      <td>63.78</td>\n",
       "      <td>67.0</td>\n",
       "      <td>39.44</td>\n",
       "      <td>35.0</td>\n",
       "      <td>450.74</td>\n",
       "      <td>460.5</td>\n",
       "      <td>17.72</td>\n",
       "      <td>17.0</td>\n",
       "    </tr>\n",
       "    <tr>\n",
       "      <td>September</td>\n",
       "      <td>61.05</td>\n",
       "      <td>61.0</td>\n",
       "      <td>37.90</td>\n",
       "      <td>31.5</td>\n",
       "      <td>437.51</td>\n",
       "      <td>434.0</td>\n",
       "      <td>17.01</td>\n",
       "      <td>16.5</td>\n",
       "    </tr>\n",
       "  </tbody>\n",
       "</table>\n",
       "</div>"
      ],
      "text/plain": [
       "                   number_call        number_mesage        sum_call_time  \\\n",
       "                          mean median          mean median          mean   \n",
       "plan     month                                                             \n",
       "surf     0                0.00    0.0          0.00    0.0          0.00   \n",
       "         April           48.88   47.0         17.40   10.0        351.54   \n",
       "         August          57.56   55.5         28.78   20.0        410.11   \n",
       "         December        65.45   64.5         38.60   31.0        473.84   \n",
       "         February        40.67   37.0         12.00    3.0        297.00   \n",
       "         January         30.00   30.0         10.50   10.5        203.00   \n",
       "         July            63.16   65.0         27.03   20.0        449.98   \n",
       "         June            59.47   61.0         25.30   15.0        431.30   \n",
       "         March           46.43   49.0         15.26    7.0        330.00   \n",
       "         May             55.70   58.0         24.01   15.0        399.58   \n",
       "         November        59.12   58.0         32.39   27.0        423.33   \n",
       "         October         60.35   61.0         33.84   26.0        429.73   \n",
       "         September       58.11   59.0         30.76   22.5        414.23   \n",
       "ultimate 0                0.00    0.0          0.00    0.0          0.00   \n",
       "         April           47.52   49.0         22.05   17.0        336.86   \n",
       "         August          60.07   60.0         38.48   36.0        421.44   \n",
       "         December        64.90   62.0         45.01   41.0        459.10   \n",
       "         February        58.29   63.0         21.57   15.0        403.14   \n",
       "         January         28.00   32.5         15.50   12.5        193.50   \n",
       "         July            58.69   62.0         32.83   28.0        427.07   \n",
       "         June            52.17   57.0         29.34   21.0        370.96   \n",
       "         March           46.00   36.0         20.25   12.0        304.25   \n",
       "         May             57.59   58.0         32.10   19.0        406.24   \n",
       "         November        62.36   63.0         38.61   32.0        445.20   \n",
       "         October         63.78   67.0         39.44   35.0        450.74   \n",
       "         September       61.05   61.0         37.90   31.5        437.51   \n",
       "\n",
       "                          sum_gb         \n",
       "                   median   mean median  \n",
       "plan     month                           \n",
       "surf     0            0.0   0.00    0.0  \n",
       "         April      339.5  12.22   12.0  \n",
       "         August     392.0  16.88   17.0  \n",
       "         December   449.0  18.24   18.0  \n",
       "         February   254.0  12.22   12.0  \n",
       "         January    203.0   5.00    5.0  \n",
       "         July       454.0  16.88   17.0  \n",
       "         June       423.0  15.48   16.0  \n",
       "         March      334.0  13.57   14.0  \n",
       "         May        415.0  14.12   14.0  \n",
       "         November   413.0  16.43   17.0  \n",
       "         October    432.0  17.41   18.0  \n",
       "         September  426.0  16.69   17.0  \n",
       "ultimate 0            0.0   0.00    0.0  \n",
       "         April      301.0  16.33   16.0  \n",
       "         August     406.0  17.85   18.0  \n",
       "         December   436.0  18.40   17.0  \n",
       "         February   428.0  17.29   20.0  \n",
       "         January    234.0   7.25    8.0  \n",
       "         July       430.0  16.49   15.0  \n",
       "         June       399.0  15.43   15.0  \n",
       "         March      251.0  18.42   21.0  \n",
       "         May        407.0  16.86   17.0  \n",
       "         November   432.0  17.12   17.0  \n",
       "         October    460.5  17.72   17.0  \n",
       "         September  434.0  17.01   16.5  "
      ]
     },
     "execution_count": 37,
     "metadata": {},
     "output_type": "execute_result"
    }
   ],
   "source": [
    "customer_behavior=data.pivot_table(index=['plan','month'], values=['sum_gb', 'number_call', 'sum_call_time','number_mesage'], aggfunc=('mean','median')).round(2)\n",
    "customer_behavior"
   ]
  },
  {
   "cell_type": "code",
   "execution_count": 38,
   "id": "c070b648",
   "metadata": {},
   "outputs": [],
   "source": [
    "str_surf=data_surf2[['sum_gb','number_call', 'sum_call_time','number_mesage']]\n",
    "str_ultimate=data_ultimate2[['sum_gb','number_call', 'sum_call_time','number_mesage']]\n"
   ]
  },
  {
   "cell_type": "code",
   "execution_count": 39,
   "id": "e4f05d11",
   "metadata": {},
   "outputs": [
    {
     "data": {
      "text/plain": [
       "(1579, 4)"
      ]
     },
     "execution_count": 39,
     "metadata": {},
     "output_type": "execute_result"
    }
   ],
   "source": [
    "str_surf.shape"
   ]
  },
  {
   "cell_type": "code",
   "execution_count": 40,
   "id": "b29a2f53",
   "metadata": {},
   "outputs": [
    {
     "data": {
      "text/plain": [
       "sum_gb             7.899502\n",
       "number_call       32.168377\n",
       "sum_call_time    235.490079\n",
       "number_mesage     33.557683\n",
       "dtype: float64"
      ]
     },
     "execution_count": 40,
     "metadata": {},
     "output_type": "execute_result"
    }
   ],
   "source": [
    "standard_deviation=str_surf.std(axis = 0) \n",
    "standard_deviation"
   ]
  },
  {
   "cell_type": "code",
   "execution_count": 41,
   "id": "0f5b36c1",
   "metadata": {},
   "outputs": [
    {
     "data": {
      "text/plain": [
       "(724, 4)"
      ]
     },
     "execution_count": 41,
     "metadata": {},
     "output_type": "execute_result"
    }
   ],
   "source": [
    "str_ultimate.shape"
   ]
  },
  {
   "cell_type": "code",
   "execution_count": 42,
   "id": "e42dc433",
   "metadata": {},
   "outputs": [
    {
     "data": {
      "text/plain": [
       "sum_gb             7.755841\n",
       "number_call       33.454527\n",
       "sum_call_time    241.958423\n",
       "number_mesage     34.782576\n",
       "dtype: float64"
      ]
     },
     "execution_count": 42,
     "metadata": {},
     "output_type": "execute_result"
    }
   ],
   "source": [
    "standard_deviation=str_ultimate.std(axis = 0) \n",
    "standard_deviation"
   ]
  },
  {
   "cell_type": "code",
   "execution_count": 43,
   "id": "f80345f0",
   "metadata": {},
   "outputs": [
    {
     "name": "stdout",
     "output_type": "stream",
     "text": [
      "sum_gb              62.362606\n",
      "number_call       1034.149122\n",
      "sum_call_time    55420.456705\n",
      "number_mesage     1125.404892\n",
      "dtype: float64\n"
     ]
    }
   ],
   "source": [
    "variance = np.var(str_surf)\n",
    "print(variance)\n"
   ]
  },
  {
   "cell_type": "code",
   "execution_count": 44,
   "id": "ef0caca0",
   "metadata": {},
   "outputs": [
    {
     "name": "stdout",
     "output_type": "stream",
     "text": [
      "sum_gb              60.069982\n",
      "number_call       1117.659540\n",
      "sum_call_time    58463.016941\n",
      "number_mesage     1208.156579\n",
      "dtype: float64\n"
     ]
    }
   ],
   "source": [
    "variance = np.var(str_ultimate)\n",
    "print(variance)"
   ]
  },
  {
   "cell_type": "markdown",
   "id": "bfde5172",
   "metadata": {},
   "source": [
    "I thought that it would be better to look at the var and standard deviation separately ( according to plan ). Standard deviation and naturally variance values are higher if we compare mean and median it means that this it, not a normal distribution . But it is better to look at the hist graph to be sure."
   ]
  },
  {
   "cell_type": "code",
   "execution_count": 45,
   "id": "ef2e2e44",
   "metadata": {},
   "outputs": [
    {
     "data": {
      "text/plain": [
       "Text(0.5, 0, 'monthly income')"
      ]
     },
     "execution_count": 45,
     "metadata": {},
     "output_type": "execute_result"
    },
    {
     "data": {
      "image/png": "[encoded data removed]",
      "text/plain": [
       "<Figure size 432x288 with 1 Axes>"
      ]
     },
     "metadata": {
      "needs_background": "light"
     },
     "output_type": "display_data"
    }
   ],
   "source": [
    "ab=sns.distplot(data_ultimate2['monthly_income']) \n",
    "ab.set_title(\" Distribution of monthly income in ultimate plan \")\n",
    "ab.set_xlabel('monthly income')"
   ]
  },
  {
   "cell_type": "code",
   "execution_count": 46,
   "id": "a462d083",
   "metadata": {},
   "outputs": [
    {
     "data": {
      "text/plain": [
       "Text(0.5, 0, 'monthly income')"
      ]
     },
     "execution_count": 46,
     "metadata": {},
     "output_type": "execute_result"
    },
    {
     "data": {
      "image/png": "[encoded data removed]",
      "text/plain": [
       "<Figure size 432x288 with 1 Axes>"
      ]
     },
     "metadata": {
      "needs_background": "light"
     },
     "output_type": "display_data"
    }
   ],
   "source": [
    "ax=sns.distplot(data_surf2['monthly_income']) \n",
    "ax.set_title(\" Distribution of monthly income in surf plan \")\n",
    "ax.set_xlabel('monthly income')"
   ]
  },
  {
   "cell_type": "markdown",
   "id": "5c300a18",
   "metadata": {},
   "source": [
    "The graph again proved that this data is not a normal distribution."
   ]
  },
  {
   "cell_type": "code",
   "execution_count": 47,
   "id": "53e8f7db",
   "metadata": {},
   "outputs": [
    {
     "data": {
      "text/plain": [
       "plan\n",
       "surf        95611.18\n",
       "ultimate    52346.00\n",
       "Name: monthly_income, dtype: float64"
      ]
     },
     "execution_count": 47,
     "metadata": {},
     "output_type": "execute_result"
    }
   ],
   "source": [
    "data.groupby('plan')['monthly_income'].sum()\n"
   ]
  },
  {
   "cell_type": "code",
   "execution_count": 48,
   "id": "b1994271",
   "metadata": {},
   "outputs": [
    {
     "data": {
      "text/plain": [
       "Text(0.5, 0, 'Sum of internet usage')"
      ]
     },
     "execution_count": 48,
     "metadata": {},
     "output_type": "execute_result"
    },
    {
     "data": {
      "image/png": "[encoded data removed]",
      "text/plain": [
       "<Figure size 432x288 with 1 Axes>"
      ]
     },
     "metadata": {
      "needs_background": "light"
     },
     "output_type": "display_data"
    }
   ],
   "source": [
    "surf_internet=sns.distplot(data_surf2['sum_gb']) \n",
    "surf_internet.set_title(\" Distribution of internet usage surf plan \")\n",
    "surf_internet.set_xlabel('Sum of internet usage')"
   ]
  },
  {
   "cell_type": "code",
   "execution_count": 49,
   "id": "464d2192",
   "metadata": {},
   "outputs": [
    {
     "data": {
      "text/plain": [
       "count    1579.000000\n",
       "mean       16.607346\n",
       "std         7.899502\n",
       "min         0.000000\n",
       "25%        12.000000\n",
       "50%        17.000000\n",
       "75%        21.000000\n",
       "max        70.000000\n",
       "Name: sum_gb, dtype: float64"
      ]
     },
     "execution_count": 49,
     "metadata": {},
     "output_type": "execute_result"
    }
   ],
   "source": [
    "data_surf2['sum_gb'].describe()"
   ]
  },
  {
   "cell_type": "markdown",
   "id": "0986abdf",
   "metadata": {},
   "source": [
    "The graph is normally distributed, most internet users use 16 Gb  which is the mean. ( I typed describe to see exactly the mean, by the way, I think we do not need boxplot, Q1 and Q2 values, describe shows everything . )"
   ]
  },
  {
   "cell_type": "code",
   "execution_count": 50,
   "id": "817875bf",
   "metadata": {},
   "outputs": [
    {
     "data": {
      "text/plain": [
       "Text(0.5, 0, 'Number of made call')"
      ]
     },
     "execution_count": 50,
     "metadata": {},
     "output_type": "execute_result"
    },
    {
     "data": {
      "image/png": "[encoded data removed]",
      "text/plain": [
       "<Figure size 432x288 with 1 Axes>"
      ]
     },
     "metadata": {
      "needs_background": "light"
     },
     "output_type": "display_data"
    }
   ],
   "source": [
    "surf_call_number=sns.distplot(data_surf2['number_call'])  \n",
    "surf_call_number.set_title(\" Distribution of telefon call surf plan \")\n",
    "surf_call_number.set_xlabel('Number of made call')"
   ]
  },
  {
   "cell_type": "markdown",
   "id": "8bece822",
   "metadata": {},
   "source": [
    "The number of made call is also distributed, the mostly people made something 70 call per month "
   ]
  },
  {
   "cell_type": "code",
   "execution_count": 51,
   "id": "00d25a7f",
   "metadata": {},
   "outputs": [
    {
     "data": {
      "text/plain": [
       "Text(0.5, 0, 'Sum of made duration ')"
      ]
     },
     "execution_count": 51,
     "metadata": {},
     "output_type": "execute_result"
    },
    {
     "data": {
      "image/png": "[encoded data removed]",
      "text/plain": [
       "<Figure size 432x288 with 1 Axes>"
      ]
     },
     "metadata": {
      "needs_background": "light"
     },
     "output_type": "display_data"
    }
   ],
   "source": [
    "surf_call_duation=sns.distplot(data_surf2['sum_call_time']) \n",
    "surf_call_duation.set_title(\"Distribution of made call duration surf plan\")\n",
    "surf_call_duation.set_xlabel('Sum of made duration ')"
   ]
  },
  {
   "cell_type": "code",
   "execution_count": 52,
   "id": "2a3a68f5",
   "metadata": {},
   "outputs": [
    {
     "data": {
      "text/plain": [
       "Text(0.5, 0, 'Sum of internet usage')"
      ]
     },
     "execution_count": 52,
     "metadata": {},
     "output_type": "execute_result"
    },
    {
     "data": {
      "image/png": "[encoded data removed]",
      "text/plain": [
       "<Figure size 432x288 with 1 Axes>"
      ]
     },
     "metadata": {
      "needs_background": "light"
     },
     "output_type": "display_data"
    }
   ],
   "source": [
    "ultimate_internet=sns.distplot(data_ultimate2['sum_gb']) \n",
    "ultimate_internet.set_title(\" Distribution of internet usage in ultimate plan  \")\n",
    "ultimate_internet.set_xlabel('Sum of internet usage')"
   ]
  },
  {
   "cell_type": "code",
   "execution_count": 53,
   "id": "9ad28d9d",
   "metadata": {},
   "outputs": [
    {
     "data": {
      "text/plain": [
       "Text(0.5, 0, 'Number of made call')"
      ]
     },
     "execution_count": 53,
     "metadata": {},
     "output_type": "execute_result"
    },
    {
     "data": {
      "image/png": "[encoded data removed]",
      "text/plain": [
       "<Figure size 432x288 with 1 Axes>"
      ]
     },
     "metadata": {
      "needs_background": "light"
     },
     "output_type": "display_data"
    }
   ],
   "source": [
    "ultimate_call_number=sns.distplot(data_ultimate2['number_call']) \n",
    "ultimate_call_number.set_title(\" Distribution of telefon call in ultimate plan  \")\n",
    "ultimate_call_number.set_xlabel('Number of made call')"
   ]
  },
  {
   "cell_type": "code",
   "execution_count": 54,
   "id": "d0a2e4f6",
   "metadata": {},
   "outputs": [
    {
     "data": {
      "text/plain": [
       "Text(0.5, 17.200000000000003, 'Sum of made duration')"
      ]
     },
     "execution_count": 54,
     "metadata": {},
     "output_type": "execute_result"
    },
    {
     "data": {
      "image/png": "[encoded data removed]",
      "text/plain": [
       "<Figure size 432x288 with 1 Axes>"
      ]
     },
     "metadata": {
      "needs_background": "light"
     },
     "output_type": "display_data"
    }
   ],
   "source": [
    "ultimate_call_duation=sns.distplot(data_ultimate2['sum_call_time']) \n",
    "ultimate_call_number.set_title(\" Distribution of made call duration ultimate plan\")\n",
    "ultimate_call_number.set_xlabel('Sum of made duration')"
   ]
  },
  {
   "cell_type": "markdown",
   "id": "d7058d84",
   "metadata": {},
   "source": [
    "Except for the monthly cost, others are normally distributed, it means that most of the data is around mean. I can say it generally for all of them. "
   ]
  },
  {
   "cell_type": "markdown",
   "id": "3109c479",
   "metadata": {},
   "source": [
    "Suft plan is more profitable that ultimate "
   ]
  },
  {
   "cell_type": "markdown",
   "id": "5bbb1653",
   "metadata": {},
   "source": [
    "The main purpose of the step is to find out which prepaid( suft and ultimate) brings more revenue to the company. To find it used their revenue monthly for each prepaid plan, boxplot, and distplot to see the data distribution. So, the data was not normally distributed and they are right-skewed.  Sufr plan has more fluctuation in monthly cost , Q1 and Q2 values are between 20 and 40 but ultimate plans  Q1 and Q2 are between 70 and 72. We can also see the mean and median of both prepaid plans to analyze the behavior of customer. We see that again difference mean and median in suft plan is larger in comparison with the ultimate plan. We can also look at standard deviation to see data distribution , they have about 7 std but surf data set has more data than ultimate. See can see which suft brings more revenue by looking at just sum of the monthly income of each prepaid plan, and suft is almost brought 2 times more revenue than the ultimate plan.  As a conclusion , the company should focus on sufs plan adds"
   ]
  },
  {
   "cell_type": "markdown",
   "id": "65501f6b",
   "metadata": {},
   "source": [
    "### Step 4. Test the hypotheses\n",
    "\n"
   ]
  },
  {
   "cell_type": "markdown",
   "id": "408870cf",
   "metadata": {},
   "source": [
    "I used  Mann-Whitney U test "
   ]
  },
  {
   "cell_type": "markdown",
   "id": "5b8fd3f5",
   "metadata": {},
   "source": [
    "The first hypothesis is that \"The average revenue from users of Ultimate and Surf calling plans differs.\"\". I take H 0 as the Average revenue is the same in both prepaid plans. H1 as The average revenue from users of Ultimate and Surf calling plans differs. I order to find answers to these questions we have to look at the monthly income of both plans the find means, and the probability that both have the same value, if the p-value is less than 0.05 we reject H0 otherwise we will accept H0. The distribution of monthly income is nonparametric therefore, I used Mann Whitney U test. "
   ]
  },
  {
   "cell_type": "markdown",
   "id": "317c2212",
   "metadata": {},
   "source": [
    "I am sorry I do not understand the question exactly, but I think you mentioned that  why I chose 'the Average revenue is the same in both prepaid plans' as H0 but in the task  \" The average revenue from users of Ultimate and Surf calling plans differ.\" are given as the hypotheses or H0. But I think that it is better to choose 'remain the same or they are equal ' as H0 is better. That is why I set H0 like this. "
   ]
  },
  {
   "cell_type": "code",
   "execution_count": 55,
   "id": "4c290bf4",
   "metadata": {},
   "outputs": [
    {
     "name": "stdout",
     "output_type": "stream",
     "text": [
      "Statistics=357118.000, p=0.000\n",
      "We reject the null hypothesis\n"
     ]
    }
   ],
   "source": [
    "stat, p = mannwhitneyu(data_ultimate2['monthly_income'], data_surf2['monthly_income'])\n",
    "print('Statistics=%.3f, p=%.3f' % (stat, p))\n",
    "# interpret\n",
    "alpha = 0.05\n",
    "if p > alpha:\n",
    "\tprint(\"We can't reject the null hypothesis\")\n",
    "else:\n",
    "\tprint(\"We reject the null hypothesis\")"
   ]
  },
  {
   "cell_type": "markdown",
   "id": "d7283b79",
   "metadata": {},
   "source": [
    "The reason is that monthly income is not distributed normall\n",
    "y, that is why to used Mann-Whitney."
   ]
  },
  {
   "cell_type": "markdown",
   "id": "23c16d19",
   "metadata": {},
   "source": [
    "The null hypothesis is that there is not the difference between plans in terms of average revenue. But we see that the p-value is almost 0, and it means that the means of the two plans are located very far distance from each other. We reject the null hypothesis"
   ]
  },
  {
   "cell_type": "code",
   "execution_count": 56,
   "id": "fdf881aa",
   "metadata": {},
   "outputs": [],
   "source": [
    "data_NY=data[data['city'].str.contains(\"NY-NJ\")]\n",
    "data_NanNY=data[~data['city'].str.contains(\"NY-NJ\")]\n"
   ]
  },
  {
   "cell_type": "markdown",
   "id": "2728ddcf",
   "metadata": {},
   "source": [
    "The second hypothesis is that \"The average revenue from users in NY-NJ area is different from that of the users from other regions\"\". H0 is Average revenue is the same all-region, but H1 is that NY-NJ differs from others. "
   ]
  },
  {
   "cell_type": "code",
   "execution_count": 57,
   "id": "17634e78",
   "metadata": {},
   "outputs": [
    {
     "name": "stdout",
     "output_type": "stream",
     "text": [
      "Statistics=331433.500, p=0.003\n",
      "We reject the null hypothesis\n"
     ]
    }
   ],
   "source": [
    "stat, p = mannwhitneyu(data_NY['monthly_income'], data_NanNY['monthly_income'])\n",
    "print('Statistics=%.3f, p=%.3f' % (stat, p))\n",
    "# interpret\n",
    "alpha = 0.05\n",
    "if p > alpha:\n",
    "\tprint(\"We can't reject the null hypothesis\")\n",
    "else:\n",
    "\tprint(\"We reject the null hypothesis\")"
   ]
  },
  {
   "cell_type": "markdown",
   "id": "ed667cb3",
   "metadata": {},
   "source": [
    "The null hypothesis is The average revenue from users in NY-NJ area is the not same  with that of the users from other regions.Again p value is less than 0.05 . THerefore , we refect H0 and accept H1 "
   ]
  },
  {
   "cell_type": "markdown",
   "id": "d0abced4",
   "metadata": {},
   "source": [
    "You re absolutly  right, The average revenue from users in NY-NJ area is the  not same  with   that of the users from other regions "
   ]
  },
  {
   "cell_type": "markdown",
   "id": "59cca569",
   "metadata": {},
   "source": [
    "So, We have 2 hypotheses here to improve company strategy and find out where or which group company should focus on in order to get more profit. Our first hypnosis says that suft plan and ultimate plan differ in terms of average revenue, and there are not significant profit differences in regions. "
   ]
  },
  {
   "cell_type": "markdown",
   "id": "e3d13f71",
   "metadata": {},
   "source": [
    "### Step 5. Write an overall conclusion\n"
   ]
  },
  {
   "cell_type": "markdown",
   "id": "b922c64d",
   "metadata": {},
   "source": [
    "The data was about two prepaid plans, Surf and Ultimate of telecom operator Megaline. After analyzing we can see that Surf plan brings more profit than the Ultimate prepaid plan. The income in Sufr fluctuated in the month of years but Ultimate almost stay the same in all months of the year. Most of Surf user exit their limits but it does not the case in the Ultimate plan. The monthly payment is Nonparametric in Sufr and Ultimate plan, the result of Mann-Whitney U test, the average payment of Surf and Ultimate different significantly and The average revenue from users in NY-NJ area is different from that of the users from other regions. "
   ]
  },
  {
   "cell_type": "markdown",
   "id": "42b40694",
   "metadata": {},
   "source": [
    "There are several data set about the usage of mobile internet users. The main purpose is to find out which prepaid plan is profitable,  I added monthly cost and monthly usage of the message, call, in internet usage to compare them in two plans.  Then I used distplot to show the distribution of the data.  The 0 usage of internet usage and 0 calls are abnormal, but I think somehow we can justify that with different reasons, except for the monthly cost,  the data are almost normally distributed. I think the reason why monthly  cost why not normally distributed  is because of the monthly set fee. So I as an clumsy  data analyst, I can say that the firm shoud spend more money on ad of Surf plan. :)\n"
   ]
  }
 ],
 "metadata": {
  "kernelspec": {
   "display_name": "Python 3",
   "language": "python",
   "name": "python3"
  },
  "language_info": {
   "codemirror_mode": {
    "name": "ipython",
    "version": 3
   },
   "file_extension": ".py",
   "mimetype": "text/x-python",
   "name": "python",
   "nbconvert_exporter": "python",
   "pygments_lexer": "ipython3",
   "version": "3.7.10"
  },
  "toc": {
   "base_numbering": 1,
   "nav_menu": {},
   "number_sections": true,
   "sideBar": true,
   "skip_h1_title": false,
   "title_cell": "Table of Contents",
   "title_sidebar": "Contents",
   "toc_cell": false,
   "toc_position": {},
   "toc_section_display": true,
   "toc_window_display": false
  }
 },
 "nbformat": 4,
 "nbformat_minor": 5
}
